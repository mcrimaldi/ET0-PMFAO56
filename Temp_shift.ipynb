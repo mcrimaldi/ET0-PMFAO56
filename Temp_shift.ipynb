{
 "cells": [
  {
   "cell_type": "code",
   "execution_count": 1,
   "id": "ef0622af",
   "metadata": {},
   "outputs": [],
   "source": [
    "import os\n",
    "from datetime import datetime\n",
    "import json\n",
    "import numpy as np\n",
    "import matplotlib.pyplot as plt\n",
    "# from osgeo import gdal\n",
    "import iris\n",
    "import iris.plot as iplt\n",
    "import iris.quickplot as qplt\n",
    "import iris_grib\n",
    "import iris.util\n",
    "import iris.pandas\n",
    "from iris.analysis import trajectory \n",
    "from iris.coords import DimCoord\n",
    "from iris.cube import Cube\n",
    "# from iris.experimental.raster import export_geotiff\n",
    "import pandas as pd\n",
    "import openpyxl\n",
    "import iris.coord_categorisation"
   ]
  },
  {
   "cell_type": "code",
   "execution_count": 2,
   "id": "f39a90cb",
   "metadata": {},
   "outputs": [
    {
     "name": "stdout",
     "output_type": "stream",
     "text": [
      "                     Name  Elevation        Lat        Lon\n",
      "0                 Agerola        848  40,646944  14,541111\n",
      "1           Ariano Irpino        631  41,196944  15,136111\n",
      "2               Benevento        236  41,115000  14,825000\n",
      "3                 Cellole          9  41,196111  13,838056\n",
      "4    Conza della Campania        770  40,861944  15,281944\n",
      "5             Lago Patria          1  40,941944  14,185833\n",
      "6                Montella        515  40,838056  15,038889\n",
      "7    Montesano Marcellana        552  40,256111  15,663889\n",
      "8                  Nisida         88  40,793889  14,163889\n",
      "9             Postiglione        660  40,561944  15,236944\n",
      "10        Rocca d'Evandro         62  41,425000  13,880000\n",
      "11          S. Bartolomeo        750  41,421944  15,041111\n",
      "12  San Marco Evangelista         31  41,020000  14,343889\n",
      "13  S. Salvatore Telesino        167  41,246944  14,473056\n",
      "14                Salerno         13  40,643889  14,836944\n",
      "15           Torre Orsaia        413  40,131944  15,458889\n",
      "16                  Alife        117  41,338889  14,333889\n",
      "17            Battipaglia         64  40,611111  15,976111\n",
      "Enter ID of Station to extract elevation or type 'c' for custom elevation: c\n",
      "Enter custom elevation in meters: 110\n",
      "110\n",
      "Set ELR as [T/m]: 0.005\n"
     ]
    }
   ],
   "source": [
    "wstations_file = pd.read_csv(r\"./Meteo_Stations.csv\", sep=\";\")\n",
    "wstations_df = pd.DataFrame(wstations_file)\n",
    "\n",
    "print (wstations_df)\n",
    "\n",
    "ID_sel = input(\"Enter ID of Station to extract elevation or type 'c' for custom elevation: \")\n",
    "if ID_sel == \"c\":\n",
    "    w_elevation = int(input(\"Enter custom elevation in meters: \"))\n",
    "    print(w_elevation)\n",
    "else:    \n",
    "    w_elevation = wstations_df.loc[int(ID_sel),\"Elevation\"]\n",
    "    print(\"Selected Elevation: \" + str(w_elevation))\n",
    "\n",
    "ELR = input(\"Set ELR as [T/m]: \") ## Usually 0.005"
   ]
  },
  {
   "cell_type": "code",
   "execution_count": 3,
   "id": "74a6b796",
   "metadata": {},
   "outputs": [
    {
     "name": "stdout",
     "output_type": "stream",
     "text": [
      "0.005 110\n"
     ]
    }
   ],
   "source": [
    "print(ELR, w_elevation)"
   ]
  },
  {
   "cell_type": "code",
   "execution_count": 4,
   "id": "fb5c087c",
   "metadata": {},
   "outputs": [
    {
     "name": "stdout",
     "output_type": "stream",
     "text": [
      "Elevation / (m)                     (latitude: 1801; longitude: 3600)\n",
      "    Dimension coordinates:\n",
      "        latitude                             x                -\n",
      "        longitude                            -                x\n",
      "    Scalar coordinates:\n",
      "        forecast_period             0 hours\n",
      "        forecast_reference_time     2013-08-09 12:00:00\n",
      "        time                        2013-08-09 12:00:00\n",
      "    Attributes:\n",
      "        GRIB_PARAM                  GRIB2:d000c003n004\n",
      "        centre                      'European Centre for Medium Range Weather Forecasts'\n"
     ]
    }
   ],
   "source": [
    "\"\"\" Calculate new temperature from GRIB temperature, \n",
    "GRIB elevation and temperature variation along elevation equation \"\"\"\n",
    "\n",
    "\n",
    "geopotential = \"geopotential.grib2\"\n",
    "geopot_cube = iris.load_cube(geopotential)\n",
    "\n",
    "# Geopotential to elevation and conversion in meters\n",
    "elev_cube = geopot_cube / 9.80665\n",
    "elev_cube.rename(\"Elevation\")\n",
    "elev_cube.units = \"m\"\n",
    "\n",
    "print(elev_cube)"
   ]
  },
  {
   "cell_type": "code",
   "execution_count": 6,
   "id": "a59af4a3",
   "metadata": {},
   "outputs": [
    {
     "name": "stdout",
     "output_type": "stream",
     "text": [
      "Elevation / (m)                     (latitude: 18; longitude: 27)\n",
      "    Dimension coordinates:\n",
      "        latitude                             x              -\n",
      "        longitude                            -              x\n",
      "    Scalar coordinates:\n",
      "        forecast_period             0 hours\n",
      "        forecast_reference_time     2013-08-09 12:00:00\n",
      "        time                        2013-08-09 12:00:00\n",
      "    Attributes:\n",
      "        GRIB_PARAM                  GRIB2:d000c003n004\n",
      "        centre                      'European Centre for Medium Range Weather Forecasts'\n"
     ]
    }
   ],
   "source": [
    "#     crop_elevation()\n",
    "with open('area.txt', 'r') as filehandle:\n",
    "    area = json.load(filehandle)\n",
    "    area[1] = area[1] - 0.10\n",
    "\n",
    "area_slicer = iris.Constraint(longitude=lambda v: area[1] <= v <= area[3], latitude=lambda v: area[2] <= v <= area[0])\n",
    "elevcube_slice = elev_cube.extract(area_slicer)\n",
    "\n",
    "print(elevcube_slice)"
   ]
  },
  {
   "cell_type": "code",
   "execution_count": 8,
   "id": "8bcab7e4",
   "metadata": {},
   "outputs": [
    {
     "name": "stdout",
     "output_type": "stream",
     "text": [
      "air_temperature / (celsius)         (time: 744; latitude: 20; longitude: 28)\n",
      "    Dimension coordinates:\n",
      "        time                             x              -              -\n",
      "        latitude                         -              x              -\n",
      "        longitude                        -              -              x\n",
      "    Auxiliary coordinates:\n",
      "        forecast_period                  x              -              -\n",
      "    Scalar coordinates:\n",
      "        height                      2 m\n",
      "        originating_centre          European Centre for Medium Range Weather Forecasts\n"
     ]
    }
   ],
   "source": [
    "#     load_ERA5_cube()    \n",
    "cube = \"ET0_t2m_july.grib\"\n",
    "air_temperature = iris.load_cube(cube)\n",
    "air_temperature.convert_units('celsius')\n",
    "\n",
    "print(air_temperature)"
   ]
  },
  {
   "cell_type": "code",
   "execution_count": 12,
   "id": "11a9d25c",
   "metadata": {},
   "outputs": [
    {
     "name": "stdout",
     "output_type": "stream",
     "text": [
      "[41.65 41.55 41.45 41.35 41.25 41.15 41.05 40.95 40.85 40.75 40.65 40.55\n",
      " 40.45 40.35 40.25 40.15 40.05 39.95 39.85 39.75] [41.6 41.5 41.4 41.3 41.2 41.1 41.  40.9 40.8 40.7 40.6 40.5 40.4 40.3\n",
      " 40.2 40.1 40.  39.9] [41.6 41.5 41.4 41.3 41.2 41.1 41.  40.9 40.8 40.7 40.6 40.5 40.4 40.3\n",
      " 40.2 40.1 40.  39.9]\n"
     ]
    }
   ],
   "source": [
    "# New temperature calculation via elevation temperature change equation\n",
    "t_shift = (w_elevation - elevcube_slice) * float(ELR) ## = (weather_station_elevation - elevetion_cube) * ELR [T/m]\n",
    "t_shift.rename(\"shift_temperature\")\n",
    "t_shift.units = \"celsius\"\n",
    "\n",
    "# # Check if cubes coordinates points are the same and replace axis\n",
    "# for axis in ('x', 'y'):\n",
    "#     dimcoord_1 = air_temperature.coord(axis=axis, dim_coords=True)\n",
    "#     dimcoord_2 = t_shift.coord(axis=axis, dim_coords=True)\n",
    "# # Ensure they are basically the same, before proceeding.\n",
    "#     assert np.allclose(dimcoord_1.points, dimcoord_2.points)\n",
    "#     assert dimcoord_1.has_bounds() == dimcoord_2.has_bounds()\n",
    "# if dimcoord_1.has_bounds():\n",
    "#     assert np.allclose(dimcoord_1.bounds, dimcoord_2.bounds)\n",
    "# # change cube#2 to use coords from cube#1 \n",
    "# t_shift.replace_coord(dimcoord_1)\n",
    "\n",
    "# # Replace coordinates anyway\n",
    "# t_shift.replace_coord(air_temperature.coord(axis=\"X\"))\n",
    "# t_shift.replace_coord(air_temperature.coord(axis=\"Y\"))\n",
    "\n",
    "# Do main calculation\n",
    "# t_new = air_temperature[:] + t_shift\n",
    "# t_new.rename(\"interpolated_temperature\")\n",
    "\n",
    "print(air_temperature.coord(\"latitude\").points, t_shift.coord(\"latitude\").points, elevcube_slice.coord(\"latitude\").points)"
   ]
  },
  {
   "cell_type": "code",
   "execution_count": null,
   "id": "109e5d1f",
   "metadata": {},
   "outputs": [],
   "source": [
    "#     interpolate_atpoint()\n",
    "new_lat = input(\"Set Latitude of interpolation as decimal: \")\n",
    "new_lon = input(\"Set Longitude of interpolation as decimal: \")\n",
    "    \n",
    "sample_points = [('latitude', new_lat), ('longitude', new_lon)]\n",
    "t_new_interpolated = t_new.interpolate(sample_points, iris.analysis.Nearest(extrapolation_mode='extrapolate'))"
   ]
  },
  {
   "cell_type": "code",
   "execution_count": null,
   "id": "3e4b239a",
   "metadata": {},
   "outputs": [],
   "source": [
    "#  plot_timeseries()\n",
    "\"\"\" Plot interpolated at point time series \"\"\"\n",
    "#fname = iris.sample_data_path(\"air_temp.pp\")\n",
    "#temperature = iris.load_cube(fname)\n",
    "\n",
    "# Take a 1d slice using array style indexing.\n",
    "#temperature_1d = temperature[5, :]\n",
    "\n",
    "qplt.plot(t_new_interpolated)\n",
    "\n",
    "plt.show()"
   ]
  },
  {
   "cell_type": "code",
   "execution_count": null,
   "id": "e2290060",
   "metadata": {},
   "outputs": [],
   "source": [
    "#  save_toGRIB() # Optional - to use with rioxarray\n",
    "iris_grib.save_grib2(t_new, \"t_new.grib2\") # Check how to set 9999 to masked data (or no data)\n",
    "\n"
   ]
  },
  {
   "cell_type": "code",
   "execution_count": 11,
   "id": "0f435bee",
   "metadata": {},
   "outputs": [],
   "source": [
    "print ('The script took {0} seconds !'.format(datetime.now() - startTime))"
   ]
  },
  {
   "cell_type": "code",
   "execution_count": 8,
   "id": "5af14d6a",
   "metadata": {},
   "outputs": [],
   "source": [
    "# def geopot_to_elev():\n",
    "#     \"\"\" Geopotential to elevation and conversion in meters \"\"\"\n",
    "#     global elev_cube\n",
    "\n",
    "#     # Load Geopotential cube\n",
    "#     geopotential = \"geopotential.grib2\"\n",
    "#     geopot_cube = iris.load_cube(geopotential)\n",
    "\n",
    "#     # Geopotential to elevation and conversion in meters\n",
    "#     elev_cube = geopot_cube / 9.80665\n",
    "#     elev_cube.rename(\"Elevation\")\n",
    "#     elev_cube.units = \"m\"\n",
    "\n",
    "#     return elev_cube"
   ]
  },
  {
   "cell_type": "code",
   "execution_count": 9,
   "id": "9192a594",
   "metadata": {},
   "outputs": [],
   "source": [
    "# def crop_elevation():\n",
    "#     \"\"\" Crop elevetion cube to sample area coordinates taken from grib_download CSV exported file \"\"\"\n",
    "#     global elevcube_slice\n",
    "\n",
    "#     with open('area.txt', 'r') as filehandle:\n",
    "#         area = json.load(filehandle)\n",
    "#         area[1] = area[1] - 0.1\n",
    "\n",
    "#     area_slicer = iris.Constraint(longitude=lambda v: area[1] <= v <= area[3], latitude=lambda v: area[2] <= v <= area[0])\n",
    "#     elevcube_slice = elev_cube.extract(area_slicer)\n",
    "\n",
    "#     return elevcube_slice"
   ]
  },
  {
   "cell_type": "code",
   "execution_count": 10,
   "id": "38d81c90",
   "metadata": {},
   "outputs": [],
   "source": [
    "# def load_ERA5_cube():\n",
    "#     \"\"\" Load downloaded cube from ERA5 (cdsapi API) \"\"\"\n",
    "#     global air_temperature\n",
    "    \n",
    "#     cube = \"ET0_t2m_july.grib\"\n",
    "#     air_temperature = iris.load_cube(cube)\n",
    "#     air_temperature.convert_units('celsius')\n",
    "\n",
    "#     return air_temperature"
   ]
  },
  {
   "cell_type": "code",
   "execution_count": null,
   "id": "c3db7082",
   "metadata": {},
   "outputs": [],
   "source": [
    "# def interpolate_atpoint():\n",
    "#     \"\"\" Interpolate at given point coordinates \"\"\"\n",
    "#     global t_new_interpolated\n",
    "#     new_lat = input(\"Set Latitude of interpolation as decimal: \")\n",
    "#     new_lon = input(\"Set Longitude of interpolation as decimal: \")\n",
    "    \n",
    "#     sample_points = [('latitude', new_lat), ('longitude', new_lon)]\n",
    "#     t_new_interpolated = t_new.interpolate(sample_points, iris.analysis.Nearest(extrapolation_mode='extrapolate'))\n",
    "\n",
    "#     return t_new_interpolated"
   ]
  },
  {
   "cell_type": "code",
   "execution_count": null,
   "id": "61f755c1",
   "metadata": {},
   "outputs": [],
   "source": [
    "# def save_toNetCDF():\n",
    "#     iris.save(t_new, \"t_new.nc\")\n",
    "    \n",
    "#     return"
   ]
  },
  {
   "cell_type": "code",
   "execution_count": 12,
   "id": "e6df6bd9",
   "metadata": {},
   "outputs": [],
   "source": [
    "# def save_toGRIB():\n",
    "#     # export_geotiff(t_new[1], \"t_new.tif\")\n",
    "    \n",
    "#     iris_grib.save_grib2(t_new, \"t_new.grib2\") # Check how to set 9999 to masked data (or no data)\n",
    "\n",
    "#     return"
   ]
  },
  {
   "cell_type": "code",
   "execution_count": null,
   "id": "5e90e7f8",
   "metadata": {},
   "outputs": [],
   "source": [
    "# def save_toxls():\n",
    "#     \"\"\" Save results to Pandas Data Frame and export to Excel file \"\"\"   \n",
    "    \n",
    "#     ## 1D cube to panda series\n",
    "#     t_new_pandas = iris.pandas.as_series(t_new_interpolated, copy=True)\n",
    "#     t_new_pandas.to_excel(r\"t_new_interpolated.xlsx\", index = True, header=True)\n",
    "    \n",
    "#     ## For 2D cubes\n",
    "#     # t_new_pandas = iris.pandas.as_data_frame(t_new_interpolated[:], copy=True)\n",
    "#     # t_new_pandas.to_excel(r\"t_new.xlsx\", index = True, header=True)\n",
    "    \n",
    "#     return"
   ]
  },
  {
   "cell_type": "code",
   "execution_count": null,
   "id": "9fe35b63",
   "metadata": {},
   "outputs": [],
   "source": [
    "# def save_tocsv():\n",
    "#     \"\"\" Save results to Pandas Data Frame and export to CSV file \"\"\"\n",
    "    \n",
    "#     ## 1D cube to panda series\n",
    "#     t_new_pandas = iris.pandas.as_series(t_new_interpolated, copy=True)\n",
    "#     t_new_pandas.to_csv(\"t_new_interpolated.csv\")\n",
    "    \n",
    "#     ## For 2D cubes\n",
    "#     # t_new_pandas = iris.pandas.as_data_frame(t_new, copy=True)\n",
    "#     # t_new_pandas.to_csv(\"t_new.csv\")\n",
    "    \n",
    "#     return"
   ]
  },
  {
   "cell_type": "code",
   "execution_count": null,
   "id": "973b5f98",
   "metadata": {},
   "outputs": [],
   "source": [
    "# def plot_timeseries():\n",
    "#     \"\"\" Plot interpolated at point time series \"\"\"\n",
    "#     #fname = iris.sample_data_path(\"air_temp.pp\")\n",
    "#     #temperature = iris.load_cube(fname)\n",
    "\n",
    "#     # Take a 1d slice using array style indexing.\n",
    "#     #temperature_1d = temperature[5, :]\n",
    "\n",
    "#     qplt.plot(t_new_interpolated)\n",
    "\n",
    "#     plt.show()"
   ]
  },
  {
   "cell_type": "code",
   "execution_count": null,
   "id": "c1f14a56",
   "metadata": {},
   "outputs": [],
   "source": [
    "# if __name__ == \"__main__\":\n",
    "#     main()"
   ]
  },
  {
   "cell_type": "code",
   "execution_count": null,
   "id": "f626e606",
   "metadata": {},
   "outputs": [],
   "source": []
  },
  {
   "cell_type": "code",
   "execution_count": null,
   "id": "5db458dd",
   "metadata": {},
   "outputs": [],
   "source": []
  }
 ],
 "metadata": {
  "kernelspec": {
   "display_name": "Python 3 (ipykernel)",
   "language": "python",
   "name": "python3"
  },
  "language_info": {
   "codemirror_mode": {
    "name": "ipython",
    "version": 3
   },
   "file_extension": ".py",
   "mimetype": "text/x-python",
   "name": "python",
   "nbconvert_exporter": "python",
   "pygments_lexer": "ipython3",
   "version": "3.9.16"
  }
 },
 "nbformat": 4,
 "nbformat_minor": 5
}

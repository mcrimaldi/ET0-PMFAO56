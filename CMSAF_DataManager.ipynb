{
 "cells": [
  {
   "cell_type": "code",
   "execution_count": 26,
   "id": "5895feff",
   "metadata": {},
   "outputs": [],
   "source": [
    "# FUNZIONA!\n",
    "\n",
    "import xarray\n",
    "import rioxarray\n",
    "import os\n",
    "import glob\n",
    "import datetime\n",
    "from datetime import datetime\n",
    "from pathlib import Path\n",
    "\n",
    "indir = Path(\"SSRD/\")\n",
    "outdir = Path(\"METEODATA/\")"
   ]
  },
  {
   "cell_type": "code",
   "execution_count": 27,
   "id": "b29b842d",
   "metadata": {},
   "outputs": [],
   "source": [
    "inFile_sisc = glob.glob(str(indir) + '/*.nc') # Surface Incoming Shortwave Radiation W/m^2\n",
    "\n",
    "card = len(inFile_sisc)"
   ]
  },
  {
   "cell_type": "code",
   "execution_count": 29,
   "id": "7cf29260",
   "metadata": {},
   "outputs": [],
   "source": [
    "for j in range(card):\n",
    "    SISC = rioxarray.open_rasterio(inFile_sisc[j])\n",
    "    SISC.rio.write_crs(\"epsg:4326\", inplace=True)\n",
    "    \n",
    "    #Reprojection to WGS 84/UTM zone 33N\n",
    "    SISC_reproj = SISC.rio.reproject(dst_crs='epsg:32633')\n",
    "    \n",
    "    #Date from filename\n",
    "    file_name = (inFile_sisc[j])[5:36]\n",
    "    date = file_name[5:13]\n",
    "    date_object = datetime.strptime(date, \"%Y%m%d\")\n",
    "    \n",
    "    #Output raster\n",
    "    output_SISC = str(outdir) + '/' + str(date_object.date()) + '_SISC'\n",
    "    SISC_reproj.SISC.rio.to_raster(f\"{output_SISC}\" + \".tif\")"
   ]
  }
 ],
 "metadata": {
  "kernelspec": {
   "display_name": "Python 3 (ipykernel)",
   "language": "python",
   "name": "python3"
  },
  "language_info": {
   "codemirror_mode": {
    "name": "ipython",
    "version": 3
   },
   "file_extension": ".py",
   "mimetype": "text/x-python",
   "name": "python",
   "nbconvert_exporter": "python",
   "pygments_lexer": "ipython3",
   "version": "3.9.16"
  }
 },
 "nbformat": 4,
 "nbformat_minor": 5
}
